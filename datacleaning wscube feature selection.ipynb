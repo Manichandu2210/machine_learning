{
 "cells": [
  {
   "cell_type": "code",
   "execution_count": 44,
   "id": "dbd9251b-aaa9-4f75-b90c-615c1b94e220",
   "metadata": {},
   "outputs": [
    {
     "name": "stdout",
     "output_type": "stream",
     "text": [
      "Collecting mlxtend\n",
      "  Downloading mlxtend-0.23.4-py3-none-any.whl.metadata (7.3 kB)\n",
      "Requirement already satisfied: scipy>=1.2.1 in c:\\users\\manichandu\\anaconda3\\lib\\site-packages (from mlxtend) (1.11.4)\n",
      "Requirement already satisfied: numpy>=1.16.2 in c:\\users\\manichandu\\anaconda3\\lib\\site-packages (from mlxtend) (1.26.4)\n",
      "Requirement already satisfied: pandas>=0.24.2 in c:\\users\\manichandu\\anaconda3\\lib\\site-packages (from mlxtend) (2.1.4)\n",
      "Collecting scikit-learn>=1.3.1 (from mlxtend)\n",
      "  Downloading scikit_learn-1.6.1-cp311-cp311-win_amd64.whl.metadata (15 kB)\n",
      "Requirement already satisfied: matplotlib>=3.0.0 in c:\\users\\manichandu\\anaconda3\\lib\\site-packages (from mlxtend) (3.8.0)\n",
      "Requirement already satisfied: joblib>=0.13.2 in c:\\users\\manichandu\\anaconda3\\lib\\site-packages (from mlxtend) (1.2.0)\n",
      "Requirement already satisfied: contourpy>=1.0.1 in c:\\users\\manichandu\\anaconda3\\lib\\site-packages (from matplotlib>=3.0.0->mlxtend) (1.2.0)\n",
      "Requirement already satisfied: cycler>=0.10 in c:\\users\\manichandu\\anaconda3\\lib\\site-packages (from matplotlib>=3.0.0->mlxtend) (0.11.0)\n",
      "Requirement already satisfied: fonttools>=4.22.0 in c:\\users\\manichandu\\anaconda3\\lib\\site-packages (from matplotlib>=3.0.0->mlxtend) (4.25.0)\n",
      "Requirement already satisfied: kiwisolver>=1.0.1 in c:\\users\\manichandu\\anaconda3\\lib\\site-packages (from matplotlib>=3.0.0->mlxtend) (1.4.4)\n",
      "Requirement already satisfied: packaging>=20.0 in c:\\users\\manichandu\\anaconda3\\lib\\site-packages (from matplotlib>=3.0.0->mlxtend) (24.2)\n",
      "Requirement already satisfied: pillow>=6.2.0 in c:\\users\\manichandu\\anaconda3\\lib\\site-packages (from matplotlib>=3.0.0->mlxtend) (10.2.0)\n",
      "Requirement already satisfied: pyparsing>=2.3.1 in c:\\users\\manichandu\\anaconda3\\lib\\site-packages (from matplotlib>=3.0.0->mlxtend) (3.0.9)\n",
      "Requirement already satisfied: python-dateutil>=2.7 in c:\\users\\manichandu\\anaconda3\\lib\\site-packages (from matplotlib>=3.0.0->mlxtend) (2.8.2)\n",
      "Requirement already satisfied: pytz>=2020.1 in c:\\users\\manichandu\\anaconda3\\lib\\site-packages (from pandas>=0.24.2->mlxtend) (2023.3.post1)\n",
      "Requirement already satisfied: tzdata>=2022.1 in c:\\users\\manichandu\\anaconda3\\lib\\site-packages (from pandas>=0.24.2->mlxtend) (2023.3)\n",
      "Collecting threadpoolctl>=3.1.0 (from scikit-learn>=1.3.1->mlxtend)\n",
      "  Downloading threadpoolctl-3.6.0-py3-none-any.whl.metadata (13 kB)\n",
      "Requirement already satisfied: six>=1.5 in c:\\users\\manichandu\\anaconda3\\lib\\site-packages (from python-dateutil>=2.7->matplotlib>=3.0.0->mlxtend) (1.16.0)\n",
      "Downloading mlxtend-0.23.4-py3-none-any.whl (1.4 MB)\n",
      "   ---------------------------------------- 0.0/1.4 MB ? eta -:--:--\n",
      "    --------------------------------------- 0.0/1.4 MB 660.6 kB/s eta 0:00:03\n",
      "    --------------------------------------- 0.0/1.4 MB 660.6 kB/s eta 0:00:03\n",
      "    --------------------------------------- 0.0/1.4 MB 660.6 kB/s eta 0:00:03\n",
      "    --------------------------------------- 0.0/1.4 MB 660.6 kB/s eta 0:00:03\n",
      "    --------------------------------------- 0.0/1.4 MB 660.6 kB/s eta 0:00:03\n",
      "    --------------------------------------- 0.0/1.4 MB 660.6 kB/s eta 0:00:03\n",
      "   -- ------------------------------------- 0.1/1.4 MB 276.8 kB/s eta 0:00:05\n",
      "   -- ------------------------------------- 0.1/1.4 MB 276.8 kB/s eta 0:00:05\n",
      "   -- ------------------------------------- 0.1/1.4 MB 276.8 kB/s eta 0:00:05\n",
      "   -- ------------------------------------- 0.1/1.4 MB 276.8 kB/s eta 0:00:05\n",
      "   ---- ----------------------------------- 0.2/1.4 MB 307.2 kB/s eta 0:00:04\n",
      "   ----- ---------------------------------- 0.2/1.4 MB 308.5 kB/s eta 0:00:04\n",
      "   ----- ---------------------------------- 0.2/1.4 MB 310.8 kB/s eta 0:00:04\n",
      "   ----- ---------------------------------- 0.2/1.4 MB 310.8 kB/s eta 0:00:04\n",
      "   ------- -------------------------------- 0.2/1.4 MB 335.0 kB/s eta 0:00:04\n",
      "   -------- ------------------------------- 0.3/1.4 MB 362.7 kB/s eta 0:00:03\n",
      "   --------- ------------------------------ 0.3/1.4 MB 388.2 kB/s eta 0:00:03\n",
      "   --------- ------------------------------ 0.3/1.4 MB 388.2 kB/s eta 0:00:03\n",
      "   --------- ------------------------------ 0.3/1.4 MB 388.2 kB/s eta 0:00:03\n",
      "   --------- ------------------------------ 0.3/1.4 MB 388.2 kB/s eta 0:00:03\n",
      "   ---------- ----------------------------- 0.4/1.4 MB 343.0 kB/s eta 0:00:03\n",
      "   ------------ --------------------------- 0.4/1.4 MB 403.5 kB/s eta 0:00:03\n",
      "   ------------ --------------------------- 0.4/1.4 MB 403.5 kB/s eta 0:00:03\n",
      "   ------------ --------------------------- 0.4/1.4 MB 403.5 kB/s eta 0:00:03\n",
      "   ------------ --------------------------- 0.4/1.4 MB 403.5 kB/s eta 0:00:03\n",
      "   -------------- ------------------------- 0.5/1.4 MB 398.3 kB/s eta 0:00:03\n",
      "   --------------- ------------------------ 0.5/1.4 MB 409.6 kB/s eta 0:00:03\n",
      "   --------------- ------------------------ 0.5/1.4 MB 409.6 kB/s eta 0:00:03\n",
      "   --------------- ------------------------ 0.5/1.4 MB 409.6 kB/s eta 0:00:03\n",
      "   ------------------ --------------------- 0.6/1.4 MB 439.6 kB/s eta 0:00:02\n",
      "   ------------------ --------------------- 0.6/1.4 MB 439.6 kB/s eta 0:00:02\n",
      "   ------------------ --------------------- 0.6/1.4 MB 439.6 kB/s eta 0:00:02\n",
      "   -------------------- ------------------- 0.7/1.4 MB 434.8 kB/s eta 0:00:02\n",
      "   ---------------------- ----------------- 0.7/1.4 MB 453.7 kB/s eta 0:00:02\n",
      "   ----------------------- ---------------- 0.8/1.4 MB 471.9 kB/s eta 0:00:02\n",
      "   ------------------------- -------------- 0.8/1.4 MB 488.8 kB/s eta 0:00:02\n",
      "   --------------------------- ------------ 0.9/1.4 MB 522.2 kB/s eta 0:00:01\n",
      "   ----------------------------- ---------- 1.0/1.4 MB 536.9 kB/s eta 0:00:01\n",
      "   ------------------------------ --------- 1.0/1.4 MB 545.3 kB/s eta 0:00:01\n",
      "   -------------------------------- ------- 1.1/1.4 MB 574.9 kB/s eta 0:00:01\n",
      "   ---------------------------------- ----- 1.2/1.4 MB 592.5 kB/s eta 0:00:01\n",
      "   ------------------------------------ --- 1.2/1.4 MB 599.7 kB/s eta 0:00:01\n",
      "   ------------------------------------- -- 1.3/1.4 MB 620.6 kB/s eta 0:00:01\n",
      "   ---------------------------------------  1.4/1.4 MB 640.9 kB/s eta 0:00:01\n",
      "   ---------------------------------------- 1.4/1.4 MB 631.6 kB/s eta 0:00:00\n",
      "Downloading scikit_learn-1.6.1-cp311-cp311-win_amd64.whl (11.1 MB)\n",
      "   ---------------------------------------- 0.0/11.1 MB ? eta -:--:--\n",
      "   ---------------------------------------- 0.1/11.1 MB 2.2 MB/s eta 0:00:06\n",
      "    --------------------------------------- 0.2/11.1 MB 1.6 MB/s eta 0:00:07\n",
      "    --------------------------------------- 0.2/11.1 MB 1.6 MB/s eta 0:00:07\n",
      "   - -------------------------------------- 0.3/11.1 MB 1.4 MB/s eta 0:00:08\n",
      "   - -------------------------------------- 0.3/11.1 MB 1.5 MB/s eta 0:00:07\n",
      "   - -------------------------------------- 0.4/11.1 MB 1.4 MB/s eta 0:00:08\n",
      "   - -------------------------------------- 0.5/11.1 MB 1.5 MB/s eta 0:00:08\n",
      "   -- ------------------------------------- 0.6/11.1 MB 1.5 MB/s eta 0:00:08\n",
      "   -- ------------------------------------- 0.6/11.1 MB 1.6 MB/s eta 0:00:07\n",
      "   -- ------------------------------------- 0.7/11.1 MB 1.5 MB/s eta 0:00:07\n",
      "   --- ------------------------------------ 0.8/11.1 MB 1.6 MB/s eta 0:00:07\n",
      "   --- ------------------------------------ 0.9/11.1 MB 1.6 MB/s eta 0:00:07\n",
      "   --- ------------------------------------ 1.0/11.1 MB 1.6 MB/s eta 0:00:07\n",
      "   --- ------------------------------------ 1.1/11.1 MB 1.7 MB/s eta 0:00:07\n",
      "   ---- ----------------------------------- 1.2/11.1 MB 1.6 MB/s eta 0:00:07\n",
      "   ---- ----------------------------------- 1.2/11.1 MB 1.6 MB/s eta 0:00:07\n",
      "   ---- ----------------------------------- 1.3/11.1 MB 1.6 MB/s eta 0:00:07\n",
      "   ----- ---------------------------------- 1.4/11.1 MB 1.6 MB/s eta 0:00:06\n",
      "   ----- ---------------------------------- 1.5/11.1 MB 1.6 MB/s eta 0:00:07\n",
      "   ----- ---------------------------------- 1.6/11.1 MB 1.6 MB/s eta 0:00:06\n",
      "   ----- ---------------------------------- 1.6/11.1 MB 1.6 MB/s eta 0:00:06\n",
      "   ------ --------------------------------- 1.7/11.1 MB 1.6 MB/s eta 0:00:06\n",
      "   ------ --------------------------------- 1.8/11.1 MB 1.6 MB/s eta 0:00:06\n",
      "   ------ --------------------------------- 1.9/11.1 MB 1.6 MB/s eta 0:00:06\n",
      "   ------- -------------------------------- 2.0/11.1 MB 1.7 MB/s eta 0:00:06\n",
      "   ------- -------------------------------- 2.1/11.1 MB 1.7 MB/s eta 0:00:06\n",
      "   ------- -------------------------------- 2.1/11.1 MB 1.7 MB/s eta 0:00:06\n",
      "   ------- -------------------------------- 2.1/11.1 MB 1.7 MB/s eta 0:00:06\n",
      "   ------- -------------------------------- 2.1/11.1 MB 1.7 MB/s eta 0:00:06\n",
      "   ------- -------------------------------- 2.1/11.1 MB 1.7 MB/s eta 0:00:06\n",
      "   ------- -------------------------------- 2.1/11.1 MB 1.7 MB/s eta 0:00:06\n",
      "   ------- -------------------------------- 2.1/11.1 MB 1.7 MB/s eta 0:00:06\n",
      "   -------- ------------------------------- 2.4/11.1 MB 1.5 MB/s eta 0:00:06\n",
      "   -------- ------------------------------- 2.5/11.1 MB 1.5 MB/s eta 0:00:06\n",
      "   --------- ------------------------------ 2.6/11.1 MB 1.5 MB/s eta 0:00:06\n",
      "   --------- ------------------------------ 2.6/11.1 MB 1.5 MB/s eta 0:00:06\n",
      "   --------- ------------------------------ 2.7/11.1 MB 1.5 MB/s eta 0:00:06\n",
      "   --------- ------------------------------ 2.7/11.1 MB 1.5 MB/s eta 0:00:06\n",
      "   ---------- ----------------------------- 2.9/11.1 MB 1.5 MB/s eta 0:00:06\n",
      "   ---------- ----------------------------- 2.9/11.1 MB 1.5 MB/s eta 0:00:06\n",
      "   ---------- ----------------------------- 3.0/11.1 MB 1.5 MB/s eta 0:00:06\n",
      "   ----------- ---------------------------- 3.1/11.1 MB 1.5 MB/s eta 0:00:06\n",
      "   ----------- ---------------------------- 3.2/11.1 MB 1.5 MB/s eta 0:00:06\n",
      "   ----------- ---------------------------- 3.3/11.1 MB 1.5 MB/s eta 0:00:06\n",
      "   ----------- ---------------------------- 3.3/11.1 MB 1.6 MB/s eta 0:00:06\n",
      "   ------------ --------------------------- 3.4/11.1 MB 1.6 MB/s eta 0:00:05\n",
      "   ------------ --------------------------- 3.5/11.1 MB 1.6 MB/s eta 0:00:05\n",
      "   ------------ --------------------------- 3.6/11.1 MB 1.6 MB/s eta 0:00:05\n",
      "   ------------- -------------------------- 3.7/11.1 MB 1.6 MB/s eta 0:00:05\n",
      "   ------------- -------------------------- 3.8/11.1 MB 1.6 MB/s eta 0:00:05\n",
      "   ------------- -------------------------- 3.8/11.1 MB 1.6 MB/s eta 0:00:05\n",
      "   -------------- ------------------------- 4.0/11.1 MB 1.6 MB/s eta 0:00:05\n",
      "   -------------- ------------------------- 4.0/11.1 MB 1.6 MB/s eta 0:00:05\n",
      "   -------------- ------------------------- 4.1/11.1 MB 1.6 MB/s eta 0:00:05\n",
      "   --------------- ------------------------ 4.2/11.1 MB 1.6 MB/s eta 0:00:05\n",
      "   --------------- ------------------------ 4.3/11.1 MB 1.6 MB/s eta 0:00:05\n",
      "   --------------- ------------------------ 4.4/11.1 MB 1.6 MB/s eta 0:00:05\n",
      "   --------------- ------------------------ 4.4/11.1 MB 1.6 MB/s eta 0:00:05\n",
      "   ---------------- ----------------------- 4.5/11.1 MB 1.6 MB/s eta 0:00:05\n",
      "   ---------------- ----------------------- 4.6/11.1 MB 1.6 MB/s eta 0:00:05\n",
      "   ---------------- ----------------------- 4.7/11.1 MB 1.6 MB/s eta 0:00:04\n",
      "   ----------------- ---------------------- 4.8/11.1 MB 1.6 MB/s eta 0:00:04\n",
      "   ----------------- ---------------------- 4.9/11.1 MB 1.6 MB/s eta 0:00:04\n",
      "   ----------------- ---------------------- 5.0/11.1 MB 1.6 MB/s eta 0:00:04\n",
      "   ------------------ --------------------- 5.1/11.1 MB 1.6 MB/s eta 0:00:04\n",
      "   ------------------ --------------------- 5.2/11.1 MB 1.6 MB/s eta 0:00:04\n",
      "   ------------------ --------------------- 5.3/11.1 MB 1.6 MB/s eta 0:00:04\n",
      "   ------------------- -------------------- 5.4/11.1 MB 1.6 MB/s eta 0:00:04\n",
      "   ------------------- -------------------- 5.5/11.1 MB 1.7 MB/s eta 0:00:04\n",
      "   -------------------- ------------------- 5.6/11.1 MB 1.7 MB/s eta 0:00:04\n",
      "   -------------------- ------------------- 5.7/11.1 MB 1.7 MB/s eta 0:00:04\n",
      "   -------------------- ------------------- 5.7/11.1 MB 1.7 MB/s eta 0:00:04\n",
      "   -------------------- ------------------- 5.8/11.1 MB 1.7 MB/s eta 0:00:04\n",
      "   --------------------- ------------------ 6.0/11.1 MB 1.7 MB/s eta 0:00:04\n",
      "   --------------------- ------------------ 6.1/11.1 MB 1.7 MB/s eta 0:00:04\n",
      "   ---------------------- ----------------- 6.2/11.1 MB 1.7 MB/s eta 0:00:03\n",
      "   ---------------------- ----------------- 6.3/11.1 MB 1.7 MB/s eta 0:00:03\n",
      "   ---------------------- ----------------- 6.4/11.1 MB 1.7 MB/s eta 0:00:03\n",
      "   ----------------------- ---------------- 6.5/11.1 MB 1.7 MB/s eta 0:00:03\n",
      "   ----------------------- ---------------- 6.5/11.1 MB 1.7 MB/s eta 0:00:03\n",
      "   ----------------------- ---------------- 6.6/11.1 MB 1.7 MB/s eta 0:00:03\n",
      "   ------------------------ --------------- 6.7/11.1 MB 1.7 MB/s eta 0:00:03\n",
      "   ------------------------ --------------- 6.9/11.1 MB 1.7 MB/s eta 0:00:03\n",
      "   ------------------------ --------------- 6.9/11.1 MB 1.7 MB/s eta 0:00:03\n",
      "   ------------------------- -------------- 7.0/11.1 MB 1.7 MB/s eta 0:00:03\n",
      "   ------------------------- -------------- 7.1/11.1 MB 1.7 MB/s eta 0:00:03\n",
      "   ------------------------- -------------- 7.2/11.1 MB 1.7 MB/s eta 0:00:03\n",
      "   -------------------------- ------------- 7.3/11.1 MB 1.7 MB/s eta 0:00:03\n",
      "   -------------------------- ------------- 7.4/11.1 MB 1.7 MB/s eta 0:00:03\n",
      "   -------------------------- ------------- 7.5/11.1 MB 1.7 MB/s eta 0:00:03\n",
      "   --------------------------- ------------ 7.6/11.1 MB 1.7 MB/s eta 0:00:03\n",
      "   --------------------------- ------------ 7.7/11.1 MB 1.8 MB/s eta 0:00:02\n",
      "   --------------------------- ------------ 7.8/11.1 MB 1.8 MB/s eta 0:00:02\n",
      "   ---------------------------- ----------- 7.9/11.1 MB 1.8 MB/s eta 0:00:02\n",
      "   ---------------------------- ----------- 8.0/11.1 MB 1.8 MB/s eta 0:00:02\n",
      "   ----------------------------- ---------- 8.1/11.1 MB 1.8 MB/s eta 0:00:02\n",
      "   ----------------------------- ---------- 8.2/11.1 MB 1.8 MB/s eta 0:00:02\n",
      "   ----------------------------- ---------- 8.3/11.1 MB 1.8 MB/s eta 0:00:02\n",
      "   ------------------------------ --------- 8.4/11.1 MB 1.8 MB/s eta 0:00:02\n",
      "   ------------------------------ --------- 8.5/11.1 MB 1.8 MB/s eta 0:00:02\n",
      "   ------------------------------- -------- 8.7/11.1 MB 1.8 MB/s eta 0:00:02\n",
      "   ------------------------------- -------- 8.8/11.1 MB 1.8 MB/s eta 0:00:02\n",
      "   ------------------------------- -------- 8.9/11.1 MB 1.8 MB/s eta 0:00:02\n",
      "   -------------------------------- ------- 9.0/11.1 MB 1.8 MB/s eta 0:00:02\n",
      "   -------------------------------- ------- 9.1/11.1 MB 1.8 MB/s eta 0:00:02\n",
      "   --------------------------------- ------ 9.2/11.1 MB 1.8 MB/s eta 0:00:02\n",
      "   --------------------------------- ------ 9.3/11.1 MB 1.8 MB/s eta 0:00:02\n",
      "   --------------------------------- ------ 9.3/11.1 MB 1.8 MB/s eta 0:00:01\n",
      "   --------------------------------- ------ 9.4/11.1 MB 1.8 MB/s eta 0:00:01\n",
      "   ---------------------------------- ----- 9.5/11.1 MB 1.8 MB/s eta 0:00:01\n",
      "   ---------------------------------- ----- 9.6/11.1 MB 1.8 MB/s eta 0:00:01\n",
      "   ---------------------------------- ----- 9.7/11.1 MB 1.8 MB/s eta 0:00:01\n",
      "   ----------------------------------- ---- 9.8/11.1 MB 1.8 MB/s eta 0:00:01\n",
      "   ----------------------------------- ---- 10.0/11.1 MB 1.8 MB/s eta 0:00:01\n",
      "   ------------------------------------ --- 10.0/11.1 MB 1.8 MB/s eta 0:00:01\n",
      "   ------------------------------------ --- 10.1/11.1 MB 1.8 MB/s eta 0:00:01\n",
      "   ------------------------------------ --- 10.2/11.1 MB 1.8 MB/s eta 0:00:01\n",
      "   ------------------------------------- -- 10.4/11.1 MB 1.8 MB/s eta 0:00:01\n",
      "   ------------------------------------- -- 10.4/11.1 MB 1.8 MB/s eta 0:00:01\n",
      "   ------------------------------------- -- 10.5/11.1 MB 1.8 MB/s eta 0:00:01\n",
      "   ------------------------------------- -- 10.5/11.1 MB 1.8 MB/s eta 0:00:01\n",
      "   -------------------------------------- - 10.6/11.1 MB 1.8 MB/s eta 0:00:01\n",
      "   -------------------------------------- - 10.7/11.1 MB 1.9 MB/s eta 0:00:01\n",
      "   -------------------------------------- - 10.8/11.1 MB 1.8 MB/s eta 0:00:01\n",
      "   ---------------------------------------  11.0/11.1 MB 1.9 MB/s eta 0:00:01\n",
      "   ---------------------------------------  11.0/11.1 MB 1.9 MB/s eta 0:00:01\n",
      "   ---------------------------------------  11.1/11.1 MB 1.9 MB/s eta 0:00:01\n",
      "   ---------------------------------------- 11.1/11.1 MB 1.8 MB/s eta 0:00:00\n",
      "Downloading threadpoolctl-3.6.0-py3-none-any.whl (18 kB)\n",
      "Installing collected packages: threadpoolctl, scikit-learn, mlxtend\n",
      "  Attempting uninstall: threadpoolctl\n",
      "    Found existing installation: threadpoolctl 2.2.0\n",
      "    Uninstalling threadpoolctl-2.2.0:\n",
      "      Successfully uninstalled threadpoolctl-2.2.0\n",
      "  Attempting uninstall: scikit-learn\n",
      "    Found existing installation: scikit-learn 1.2.2\n",
      "    Uninstalling scikit-learn-1.2.2:\n",
      "      Successfully uninstalled scikit-learn-1.2.2\n",
      "Successfully installed mlxtend-0.23.4 scikit-learn-1.6.1 threadpoolctl-3.6.0\n"
     ]
    }
   ],
   "source": [
    "!pip install mlxtend"
   ]
  },
  {
   "cell_type": "code",
   "execution_count": 45,
   "id": "fb57f9c0-82d6-4887-97be-77dc9ab76f4f",
   "metadata": {},
   "outputs": [],
   "source": [
    "import pandas as pd \n",
    "import numpy as np\n",
    "import matplotlib.pyplot as plt\n",
    "import seaborn as sns"
   ]
  },
  {
   "cell_type": "code",
   "execution_count": 46,
   "id": "4e96c894-f199-4093-953d-1f2f4b4f8f87",
   "metadata": {},
   "outputs": [],
   "source": [
    "df = pd.read_csv(r\"diabetes.csv\")"
   ]
  },
  {
   "cell_type": "code",
   "execution_count": 47,
   "id": "8f54463a-a2ff-44db-916e-6fdd7da7c0f0",
   "metadata": {},
   "outputs": [],
   "source": [
    "df.drop(columns=[\"Pregnancies\", \"DiabetesPedigreeFunction\"],inplace = True)"
   ]
  },
  {
   "cell_type": "code",
   "execution_count": 48,
   "id": "b2a0fb90-53dd-42c2-9ab5-0cfa6a76af51",
   "metadata": {},
   "outputs": [
    {
     "data": {
      "text/html": [
       "<div>\n",
       "<style scoped>\n",
       "    .dataframe tbody tr th:only-of-type {\n",
       "        vertical-align: middle;\n",
       "    }\n",
       "\n",
       "    .dataframe tbody tr th {\n",
       "        vertical-align: top;\n",
       "    }\n",
       "\n",
       "    .dataframe thead th {\n",
       "        text-align: right;\n",
       "    }\n",
       "</style>\n",
       "<table border=\"1\" class=\"dataframe\">\n",
       "  <thead>\n",
       "    <tr style=\"text-align: right;\">\n",
       "      <th></th>\n",
       "      <th>Glucose</th>\n",
       "      <th>BloodPressure</th>\n",
       "      <th>SkinThickness</th>\n",
       "      <th>Insulin</th>\n",
       "      <th>BMI</th>\n",
       "      <th>Age</th>\n",
       "      <th>Outcome</th>\n",
       "    </tr>\n",
       "  </thead>\n",
       "  <tbody>\n",
       "    <tr>\n",
       "      <th>0</th>\n",
       "      <td>148</td>\n",
       "      <td>72</td>\n",
       "      <td>35</td>\n",
       "      <td>0</td>\n",
       "      <td>33.6</td>\n",
       "      <td>50</td>\n",
       "      <td>1</td>\n",
       "    </tr>\n",
       "    <tr>\n",
       "      <th>1</th>\n",
       "      <td>85</td>\n",
       "      <td>66</td>\n",
       "      <td>29</td>\n",
       "      <td>0</td>\n",
       "      <td>26.6</td>\n",
       "      <td>31</td>\n",
       "      <td>0</td>\n",
       "    </tr>\n",
       "    <tr>\n",
       "      <th>2</th>\n",
       "      <td>183</td>\n",
       "      <td>64</td>\n",
       "      <td>0</td>\n",
       "      <td>0</td>\n",
       "      <td>23.3</td>\n",
       "      <td>32</td>\n",
       "      <td>1</td>\n",
       "    </tr>\n",
       "    <tr>\n",
       "      <th>3</th>\n",
       "      <td>89</td>\n",
       "      <td>66</td>\n",
       "      <td>23</td>\n",
       "      <td>94</td>\n",
       "      <td>28.1</td>\n",
       "      <td>21</td>\n",
       "      <td>0</td>\n",
       "    </tr>\n",
       "    <tr>\n",
       "      <th>4</th>\n",
       "      <td>137</td>\n",
       "      <td>40</td>\n",
       "      <td>35</td>\n",
       "      <td>168</td>\n",
       "      <td>43.1</td>\n",
       "      <td>33</td>\n",
       "      <td>1</td>\n",
       "    </tr>\n",
       "    <tr>\n",
       "      <th>...</th>\n",
       "      <td>...</td>\n",
       "      <td>...</td>\n",
       "      <td>...</td>\n",
       "      <td>...</td>\n",
       "      <td>...</td>\n",
       "      <td>...</td>\n",
       "      <td>...</td>\n",
       "    </tr>\n",
       "    <tr>\n",
       "      <th>763</th>\n",
       "      <td>101</td>\n",
       "      <td>76</td>\n",
       "      <td>48</td>\n",
       "      <td>180</td>\n",
       "      <td>32.9</td>\n",
       "      <td>63</td>\n",
       "      <td>0</td>\n",
       "    </tr>\n",
       "    <tr>\n",
       "      <th>764</th>\n",
       "      <td>122</td>\n",
       "      <td>70</td>\n",
       "      <td>27</td>\n",
       "      <td>0</td>\n",
       "      <td>36.8</td>\n",
       "      <td>27</td>\n",
       "      <td>0</td>\n",
       "    </tr>\n",
       "    <tr>\n",
       "      <th>765</th>\n",
       "      <td>121</td>\n",
       "      <td>72</td>\n",
       "      <td>23</td>\n",
       "      <td>112</td>\n",
       "      <td>26.2</td>\n",
       "      <td>30</td>\n",
       "      <td>0</td>\n",
       "    </tr>\n",
       "    <tr>\n",
       "      <th>766</th>\n",
       "      <td>126</td>\n",
       "      <td>60</td>\n",
       "      <td>0</td>\n",
       "      <td>0</td>\n",
       "      <td>30.1</td>\n",
       "      <td>47</td>\n",
       "      <td>1</td>\n",
       "    </tr>\n",
       "    <tr>\n",
       "      <th>767</th>\n",
       "      <td>93</td>\n",
       "      <td>70</td>\n",
       "      <td>31</td>\n",
       "      <td>0</td>\n",
       "      <td>30.4</td>\n",
       "      <td>23</td>\n",
       "      <td>0</td>\n",
       "    </tr>\n",
       "  </tbody>\n",
       "</table>\n",
       "<p>768 rows × 7 columns</p>\n",
       "</div>"
      ],
      "text/plain": [
       "     Glucose  BloodPressure  SkinThickness  Insulin   BMI  Age  Outcome\n",
       "0        148             72             35        0  33.6   50        1\n",
       "1         85             66             29        0  26.6   31        0\n",
       "2        183             64              0        0  23.3   32        1\n",
       "3         89             66             23       94  28.1   21        0\n",
       "4        137             40             35      168  43.1   33        1\n",
       "..       ...            ...            ...      ...   ...  ...      ...\n",
       "763      101             76             48      180  32.9   63        0\n",
       "764      122             70             27        0  36.8   27        0\n",
       "765      121             72             23      112  26.2   30        0\n",
       "766      126             60              0        0  30.1   47        1\n",
       "767       93             70             31        0  30.4   23        0\n",
       "\n",
       "[768 rows x 7 columns]"
      ]
     },
     "execution_count": 48,
     "metadata": {},
     "output_type": "execute_result"
    }
   ],
   "source": [
    "df"
   ]
  },
  {
   "cell_type": "code",
   "execution_count": 49,
   "id": "e7df0435-95d2-4761-aaa1-21dfeddda281",
   "metadata": {},
   "outputs": [],
   "source": [
    "x = df.iloc[:,:-1]\n",
    "y = df[\"Outcome\"]"
   ]
  },
  {
   "cell_type": "code",
   "execution_count": 50,
   "id": "9966c2c8-c806-44f9-8055-c78435f72b51",
   "metadata": {},
   "outputs": [],
   "source": [
    "from sklearn.linear_model import LogisticRegression\n",
    "from mlxtend.feature_selection import SequentialFeatureSelector"
   ]
  },
  {
   "cell_type": "code",
   "execution_count": 51,
   "id": "874fce1f-2945-47ed-97d5-574fedfcfe31",
   "metadata": {},
   "outputs": [],
   "source": [
    "lor = LogisticRegression()"
   ]
  },
  {
   "cell_type": "code",
   "execution_count": 52,
   "id": "d298aa6d-cf40-4914-b8e8-2455de6f213a",
   "metadata": {},
   "outputs": [
    {
     "data": {
      "text/plain": [
       "(768, 6)"
      ]
     },
     "execution_count": 52,
     "metadata": {},
     "output_type": "execute_result"
    }
   ],
   "source": [
    "x.shape"
   ]
  },
  {
   "cell_type": "code",
   "execution_count": 184,
   "id": "fcbd28bc-7bdf-4d81-86e8-bcb540ee69ce",
   "metadata": {},
   "outputs": [],
   "source": [
    "fs = SequentialFeatureSelector(lor,k_features = 5,forward = True)\n",
    "# forward =True forward selection"
   ]
  },
  {
   "cell_type": "code",
   "execution_count": 185,
   "id": "c0f72f8b-e5bb-4d5b-9bd7-7717ae82ea31",
   "metadata": {},
   "outputs": [
    {
     "data": {
      "text/html": [
       "<style>#sk-container-id-24 {color: black;background-color: white;}#sk-container-id-24 pre{padding: 0;}#sk-container-id-24 div.sk-toggleable {background-color: white;}#sk-container-id-24 label.sk-toggleable__label {cursor: pointer;display: block;width: 100%;margin-bottom: 0;padding: 0.3em;box-sizing: border-box;text-align: center;}#sk-container-id-24 label.sk-toggleable__label-arrow:before {content: \"▸\";float: left;margin-right: 0.25em;color: #696969;}#sk-container-id-24 label.sk-toggleable__label-arrow:hover:before {color: black;}#sk-container-id-24 div.sk-estimator:hover label.sk-toggleable__label-arrow:before {color: black;}#sk-container-id-24 div.sk-toggleable__content {max-height: 0;max-width: 0;overflow: hidden;text-align: left;background-color: #f0f8ff;}#sk-container-id-24 div.sk-toggleable__content pre {margin: 0.2em;color: black;border-radius: 0.25em;background-color: #f0f8ff;}#sk-container-id-24 input.sk-toggleable__control:checked~div.sk-toggleable__content {max-height: 200px;max-width: 100%;overflow: auto;}#sk-container-id-24 input.sk-toggleable__control:checked~label.sk-toggleable__label-arrow:before {content: \"▾\";}#sk-container-id-24 div.sk-estimator input.sk-toggleable__control:checked~label.sk-toggleable__label {background-color: #d4ebff;}#sk-container-id-24 div.sk-label input.sk-toggleable__control:checked~label.sk-toggleable__label {background-color: #d4ebff;}#sk-container-id-24 input.sk-hidden--visually {border: 0;clip: rect(1px 1px 1px 1px);clip: rect(1px, 1px, 1px, 1px);height: 1px;margin: -1px;overflow: hidden;padding: 0;position: absolute;width: 1px;}#sk-container-id-24 div.sk-estimator {font-family: monospace;background-color: #f0f8ff;border: 1px dotted black;border-radius: 0.25em;box-sizing: border-box;margin-bottom: 0.5em;}#sk-container-id-24 div.sk-estimator:hover {background-color: #d4ebff;}#sk-container-id-24 div.sk-parallel-item::after {content: \"\";width: 100%;border-bottom: 1px solid gray;flex-grow: 1;}#sk-container-id-24 div.sk-label:hover label.sk-toggleable__label {background-color: #d4ebff;}#sk-container-id-24 div.sk-serial::before {content: \"\";position: absolute;border-left: 1px solid gray;box-sizing: border-box;top: 0;bottom: 0;left: 50%;z-index: 0;}#sk-container-id-24 div.sk-serial {display: flex;flex-direction: column;align-items: center;background-color: white;padding-right: 0.2em;padding-left: 0.2em;position: relative;}#sk-container-id-24 div.sk-item {position: relative;z-index: 1;}#sk-container-id-24 div.sk-parallel {display: flex;align-items: stretch;justify-content: center;background-color: white;position: relative;}#sk-container-id-24 div.sk-item::before, #sk-container-id-24 div.sk-parallel-item::before {content: \"\";position: absolute;border-left: 1px solid gray;box-sizing: border-box;top: 0;bottom: 0;left: 50%;z-index: -1;}#sk-container-id-24 div.sk-parallel-item {display: flex;flex-direction: column;z-index: 1;position: relative;background-color: white;}#sk-container-id-24 div.sk-parallel-item:first-child::after {align-self: flex-end;width: 50%;}#sk-container-id-24 div.sk-parallel-item:last-child::after {align-self: flex-start;width: 50%;}#sk-container-id-24 div.sk-parallel-item:only-child::after {width: 0;}#sk-container-id-24 div.sk-dashed-wrapped {border: 1px dashed gray;margin: 0 0.4em 0.5em 0.4em;box-sizing: border-box;padding-bottom: 0.4em;background-color: white;}#sk-container-id-24 div.sk-label label {font-family: monospace;font-weight: bold;display: inline-block;line-height: 1.2em;}#sk-container-id-24 div.sk-label-container {text-align: center;}#sk-container-id-24 div.sk-container {/* jupyter's `normalize.less` sets `[hidden] { display: none; }` but bootstrap.min.css set `[hidden] { display: none !important; }` so we also need the `!important` here to be able to override the default hidden behavior on the sphinx rendered scikit-learn.org. See: https://github.com/scikit-learn/scikit-learn/issues/21755 */display: inline-block !important;position: relative;}#sk-container-id-24 div.sk-text-repr-fallback {display: none;}</style><div id=\"sk-container-id-24\" class=\"sk-top-container\"><div class=\"sk-text-repr-fallback\"><pre>SequentialFeatureSelector(estimator=LogisticRegression(), k_features=(5, 5),\n",
       "                          scoring=&#x27;accuracy&#x27;)</pre><b>In a Jupyter environment, please rerun this cell to show the HTML representation or trust the notebook. <br />On GitHub, the HTML representation is unable to render, please try loading this page with nbviewer.org.</b></div><div class=\"sk-container\" hidden><div class=\"sk-item sk-dashed-wrapped\"><div class=\"sk-label-container\"><div class=\"sk-label sk-toggleable\"><input class=\"sk-toggleable__control sk-hidden--visually\" id=\"sk-estimator-id-70\" type=\"checkbox\" ><label for=\"sk-estimator-id-70\" class=\"sk-toggleable__label sk-toggleable__label-arrow\">SequentialFeatureSelector</label><div class=\"sk-toggleable__content\"><pre>SequentialFeatureSelector(estimator=LogisticRegression(), k_features=(5, 5),\n",
       "                          scoring=&#x27;accuracy&#x27;)</pre></div></div></div><div class=\"sk-parallel\"><div class=\"sk-parallel-item\"><div class=\"sk-item\"><div class=\"sk-label-container\"><div class=\"sk-label sk-toggleable\"><input class=\"sk-toggleable__control sk-hidden--visually\" id=\"sk-estimator-id-71\" type=\"checkbox\" ><label for=\"sk-estimator-id-71\" class=\"sk-toggleable__label sk-toggleable__label-arrow\">estimator: LogisticRegression</label><div class=\"sk-toggleable__content\"><pre>LogisticRegression()</pre></div></div></div><div class=\"sk-serial\"><div class=\"sk-item\"><div class=\"sk-estimator sk-toggleable\"><input class=\"sk-toggleable__control sk-hidden--visually\" id=\"sk-estimator-id-72\" type=\"checkbox\" ><label for=\"sk-estimator-id-72\" class=\"sk-toggleable__label sk-toggleable__label-arrow\">LogisticRegression</label><div class=\"sk-toggleable__content\"><pre>LogisticRegression()</pre></div></div></div></div></div></div></div></div></div></div>"
      ],
      "text/plain": [
       "SequentialFeatureSelector(estimator=LogisticRegression(), k_features=(5, 5),\n",
       "                          scoring='accuracy')"
      ]
     },
     "execution_count": 185,
     "metadata": {},
     "output_type": "execute_result"
    }
   ],
   "source": [
    "fs.fit(x,y)"
   ]
  },
  {
   "cell_type": "code",
   "execution_count": 186,
   "id": "ddfe12c6-5944-445c-8d8a-424a02700c80",
   "metadata": {},
   "outputs": [
    {
     "data": {
      "text/plain": [
       "('Glucose', 'BloodPressure', 'Insulin', 'BMI', 'Age')"
      ]
     },
     "execution_count": 186,
     "metadata": {},
     "output_type": "execute_result"
    }
   ],
   "source": [
    "fs.k_feature_names_"
   ]
  },
  {
   "cell_type": "code",
   "execution_count": 187,
   "id": "b0ada305-4a37-406c-a94c-84ec9850b402",
   "metadata": {},
   "outputs": [
    {
     "data": {
      "text/plain": [
       "['Glucose', 'BloodPressure', 'SkinThickness', 'Insulin', 'BMI', 'Age']"
      ]
     },
     "execution_count": 187,
     "metadata": {},
     "output_type": "execute_result"
    }
   ],
   "source": [
    "fs.feature_names"
   ]
  },
  {
   "cell_type": "code",
   "execution_count": 188,
   "id": "f5dfc7bd-5690-4b7c-8e75-b026b630667f",
   "metadata": {},
   "outputs": [
    {
     "data": {
      "text/plain": [
       "76.82964094728801"
      ]
     },
     "execution_count": 188,
     "metadata": {},
     "output_type": "execute_result"
    }
   ],
   "source": [
    "s = fs.k_score_\n",
    "accuracy = (s*100)\n",
    "accuracy"
   ]
  },
  {
   "cell_type": "code",
   "execution_count": 189,
   "id": "46662a07-0753-41c3-ae5a-efd3b50b40dc",
   "metadata": {},
   "outputs": [],
   "source": [
    "# # backsward selection \n",
    "\n",
    "# no.of features      kscore\n",
    "# 6features =           0.7721925133689839\n",
    "# 5features =           0.7682964094728801\n",
    "# 4features =           0.7682964094728801\n",
    "# 3features =           0.7683048977166624\n",
    "# 2features =           0.7591206179441474\n",
    "\n",
    "\n",
    "# # forward selection \n",
    "\n",
    "# no.of features      kscore\n",
    "# 6features =           0.7721925133689839\n",
    "# 5features =           0.7682964094728801\n",
    "# 4features =           0.7682964094728801\n",
    "# 3features =           0.7683048977166624\n",
    "# 2features =           0.7591206179441474\n",
    "   "
   ]
  },
  {
   "cell_type": "code",
   "execution_count": null,
   "id": "a989e2ab-912b-4cbb-85fc-7645bda1b577",
   "metadata": {},
   "outputs": [],
   "source": []
  },
  {
   "cell_type": "code",
   "execution_count": null,
   "id": "720866b7-1887-4d99-a1b6-ebf95a24886c",
   "metadata": {},
   "outputs": [],
   "source": []
  },
  {
   "cell_type": "code",
   "execution_count": null,
   "id": "813d79b2-1f22-47e8-b73e-a8d98782c230",
   "metadata": {},
   "outputs": [],
   "source": []
  },
  {
   "cell_type": "code",
   "execution_count": null,
   "id": "c0e9fdb2-5d7b-47ca-9720-bb71e32f14fb",
   "metadata": {},
   "outputs": [],
   "source": []
  },
  {
   "cell_type": "code",
   "execution_count": null,
   "id": "42507275-55ac-409b-b701-8a59893fa848",
   "metadata": {},
   "outputs": [],
   "source": []
  }
 ],
 "metadata": {
  "kernelspec": {
   "display_name": "Python 3 (ipykernel)",
   "language": "python",
   "name": "python3"
  },
  "language_info": {
   "codemirror_mode": {
    "name": "ipython",
    "version": 3
   },
   "file_extension": ".py",
   "mimetype": "text/x-python",
   "name": "python",
   "nbconvert_exporter": "python",
   "pygments_lexer": "ipython3",
   "version": "3.11.7"
  }
 },
 "nbformat": 4,
 "nbformat_minor": 5
}
