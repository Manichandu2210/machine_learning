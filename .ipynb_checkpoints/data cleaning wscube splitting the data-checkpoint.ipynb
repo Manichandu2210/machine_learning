{
 "cells": [
  {
   "cell_type": "code",
   "execution_count": 41,
   "id": "9bb784e4-5e02-494d-b5c4-4866b857d836",
   "metadata": {},
   "outputs": [],
   "source": [
    "import pandas as pd\n",
    "import numpy as np\n",
    "import matplotlib.pyplot as plt\n",
    "import seaborn as sns"
   ]
  },
  {
   "cell_type": "code",
   "execution_count": 42,
   "id": "8e4bdba5-8cff-47e3-a5ae-ce2a50400283",
   "metadata": {},
   "outputs": [],
   "source": [
    "df = pd.read_csv(r\"Boston.csv\")"
   ]
  },
  {
   "cell_type": "code",
   "execution_count": 43,
   "id": "216a63f9-75d7-4d68-a572-d9c5296cd059",
   "metadata": {},
   "outputs": [],
   "source": [
    "input_data = df.iloc[:,:-1]\n",
    "output_data = df.iloc[:,-1]"
   ]
  },
  {
   "cell_type": "code",
   "execution_count": 44,
   "id": "2419bc43-cd7e-4185-bb89-15776b0fd6f0",
   "metadata": {},
   "outputs": [],
   "source": [
    "from sklearn.model_selection import train_test_split"
   ]
  },
  {
   "cell_type": "code",
   "execution_count": 45,
   "id": "9d5a4162-478c-4b09-9c02-a6d52e51ed18",
   "metadata": {},
   "outputs": [],
   "source": [
    "xtrain,xtest,ytrain,ytest = train_test_split(input_data,output_data,test_size=0.25)"
   ]
  },
  {
   "cell_type": "code",
   "execution_count": null,
   "id": "8b6a1353-ef53-4b50-b531-16015f9c649b",
   "metadata": {},
   "outputs": [],
   "source": []
  },
  {
   "cell_type": "code",
   "execution_count": null,
   "id": "7c24beb7-4e58-4f74-b26f-f565f2dcf4e5",
   "metadata": {},
   "outputs": [],
   "source": []
  },
  {
   "cell_type": "code",
   "execution_count": null,
   "id": "320b1f3a-21bd-42dd-936b-b97500aef96f",
   "metadata": {},
   "outputs": [],
   "source": []
  },
  {
   "cell_type": "code",
   "execution_count": null,
   "id": "37a17e68-fc27-40c5-b5ad-796dd3ea5705",
   "metadata": {},
   "outputs": [],
   "source": []
  },
  {
   "cell_type": "code",
   "execution_count": null,
   "id": "fa11eb30-f60c-4854-ad17-7654f149b239",
   "metadata": {},
   "outputs": [],
   "source": []
  },
  {
   "cell_type": "code",
   "execution_count": null,
   "id": "55dea301-79c4-4b21-96b1-bc10ecb07093",
   "metadata": {},
   "outputs": [],
   "source": []
  },
  {
   "cell_type": "code",
   "execution_count": null,
   "id": "3c495f13-1fb9-4a1c-8bb0-5e8cfcbab222",
   "metadata": {},
   "outputs": [],
   "source": []
  }
 ],
 "metadata": {
  "kernelspec": {
   "display_name": "Python 3 (ipykernel)",
   "language": "python",
   "name": "python3"
  },
  "language_info": {
   "codemirror_mode": {
    "name": "ipython",
    "version": 3
   },
   "file_extension": ".py",
   "mimetype": "text/x-python",
   "name": "python",
   "nbconvert_exporter": "python",
   "pygments_lexer": "ipython3",
   "version": "3.11.7"
  }
 },
 "nbformat": 4,
 "nbformat_minor": 5
}
